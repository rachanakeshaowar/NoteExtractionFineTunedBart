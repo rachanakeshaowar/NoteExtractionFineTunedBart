{
 "cells": [
  {
   "cell_type": "code",
   "execution_count": null,
   "id": "89bcf51f",
   "metadata": {},
   "outputs": [],
   "source": [
    "!pip install -U transformers\n",
    "!pip install -U accelerate\n",
    "!pip install -U datasets\n",
    "!pip install -U bertviz\n",
    "!pip install -U umap-learn\n",
    "!pip install -U sentencepiece\n",
    "!pip install -U urllib3\n",
    "!pip install py7zr\n",
    "!pip install matplotlib"
   ]
  },
  {
   "cell_type": "code",
   "execution_count": null,
   "id": "d6542d6e",
   "metadata": {},
   "outputs": [],
   "source": [
    "from datasets import load_dataset\n",
    "dataset = load_dataset(\"cnn_dailymail\", \"3.0.0\")"
   ]
  },
  {
   "cell_type": "code",
   "execution_count": null,
   "id": "17e0d448",
   "metadata": {},
   "outputs": [],
   "source": [
    "dataset['train']"
   ]
  },
  {
   "cell_type": "code",
   "execution_count": null,
   "id": "be6b3b9b",
   "metadata": {},
   "outputs": [],
   "source": [
    "dataset['train'][1]['article'][:300]\n"
   ]
  },
  {
   "cell_type": "code",
   "execution_count": null,
   "id": "9eafa87e",
   "metadata": {},
   "outputs": [],
   "source": [
    "dataset['train'][1]['highlights']"
   ]
  },
  {
   "cell_type": "code",
   "execution_count": null,
   "id": "adf3d59d",
   "metadata": {},
   "outputs": [],
   "source": [
    "from transformers import pipeline\n",
    "pipe = pipeline(\"text-generation\", model=\"gpt2-medium\")"
   ]
  },
  {
   "cell_type": "code",
   "execution_count": null,
   "id": "898440a4",
   "metadata": {},
   "outputs": [],
   "source": [
    "print(dataset['train'][1]['article'][:1000])\n",
    "\n",
    "\n",
    "input_text = dataset['train'][1]['article'][:2000]\n",
    "query = input_text + \"\\nTL;DR:\\n\"\n",
    "\n",
    "\n",
    "pipe_out = pipe(query, max_length=512, clean_up_tokenization_spaces=True)\n",
    "\n",
    "\n",
    "print(pipe_out[0]['generated_text'])"
   ]
  },
  {
   "cell_type": "code",
   "execution_count": null,
   "metadata": {},
   "outputs": [],
   "source": [
    "len(input_text)"
   ]
  },
  {
   "cell_type": "code",
   "execution_count": null,
   "id": "e7c1aeaa",
   "metadata": {},
   "outputs": [],
   "source": [
    "pipe_out[0]['generated_text']"
   ]
  },
  {
   "cell_type": "code",
   "execution_count": null,
   "id": "11cbf5e4",
   "metadata": {},
   "outputs": [],
   "source": [
    "pipe_out[0]['generated_text'][len(query):]"
   ]
  },
  {
   "cell_type": "code",
   "execution_count": null,
   "id": "88604bfc",
   "metadata": {},
   "outputs": [],
   "source": [
    "summaries = {}\n",
    "summaries['gpt2-medium-380M'] = pipe_out[0]['generated_text'][len(query):]"
   ]
  },
  {
   "cell_type": "code",
   "execution_count": null,
   "id": "816a6bad",
   "metadata": {},
   "outputs": [],
   "source": [
    "pipe = pipeline('summarization',model='t5-base')"
   ]
  },
  {
   "cell_type": "code",
   "execution_count": null,
   "id": "e3650bde",
   "metadata": {},
   "outputs": [],
   "source": [
    "pipe_out = pipe(input_text)"
   ]
  },
  {
   "cell_type": "code",
   "execution_count": null,
   "id": "114b245f",
   "metadata": {},
   "outputs": [],
   "source": [
    "summaries['t5-base-223M'] = pipe_out[0]['summary_text']"
   ]
  },
  {
   "cell_type": "code",
   "execution_count": null,
   "id": "25ff749f",
   "metadata": {},
   "outputs": [],
   "source": [
    "summaries['bart-large-cnn-400M'] = pipe_out[0]['summary_text']"
   ]
  },
  {
   "cell_type": "code",
   "execution_count": null,
   "id": "826b7217",
   "metadata": {},
   "outputs": [],
   "source": [
    "pipe_out = pipe(input_text)"
   ]
  },
  {
   "cell_type": "code",
   "execution_count": null,
   "id": "b2c130a6",
   "metadata": {},
   "outputs": [],
   "source": [
    "summaries['pegasus-cnn-568M'] = pipe_out[0]['summary_text']"
   ]
  },
  {
   "cell_type": "code",
   "execution_count": null,
   "id": "613be150",
   "metadata": {},
   "outputs": [],
   "source": [
    "for model in summaries:\n",
    "    print(model.upper())\n",
    "    print(summaries[model])\n",
    "    print(\" \")\n"
   ]
  },
  {
   "cell_type": "code",
   "execution_count": null,
   "id": "8f98e7a4",
   "metadata": {},
   "outputs": [],
   "source": [
    "from datasets import load_dataset\n",
    "from transformers import pipeline\n",
    "from transformers import AutoModelForSeq2SeqLM, AutoTokenizer\n",
    "import torch\n"
   ]
  },
  {
   "cell_type": "code",
   "execution_count": null,
   "id": "3d0819ec",
   "metadata": {},
   "outputs": [],
   "source": [
    "device = 'cuda' if torch.cuda.is_available() else 'cpu'\n",
    "model_ckpt = 'facebook/bart-large-cnn'\n",
    "\n",
    "tokenizer = AutoTokenizer.from_pretrained(model_ckpt)\n",
    "model = AutoModelForSeq2SeqLM.from_pretrained(model_ckpt)"
   ]
  },
  {
   "cell_type": "code",
   "execution_count": null,
   "id": "343cf01d",
   "metadata": {},
   "outputs": [],
   "source": [
    "from datasets import load_dataset\n",
    "\n",
    "dataset = load_dataset(\"cnn_dailymail\", \"3.0.0\")\n",
    "\n",
    "print(dataset)"
   ]
  },
  {
   "cell_type": "code",
   "execution_count": null,
   "id": "be464330",
   "metadata": {},
   "outputs": [],
   "source": [
    "data1 = load_dataset('cnn_dailymail', '3.0.0')\n",
    "\n",
    "\n",
    "print(data1['train'][0])"
   ]
  },
  {
   "cell_type": "code",
   "execution_count": null,
   "id": "654ab27e",
   "metadata": {},
   "outputs": [],
   "source": [
    "import pandas as pd\n",
    "dialogue_len = [len(x['article'].split()) for x in data1['train']]\n",
    "summary_len = [len(x['highlights'].split()) for x in data1['train']]\n",
    "\n",
    "data = pd.DataFrame({'Dialogue Length': dialogue_len, 'Summary Length': summary_len})\n",
    "data.hist(figsize=(15, 5))"
   ]
  },
  {
   "cell_type": "code",
   "execution_count": null,
   "id": "f73eaeef",
   "metadata": {},
   "outputs": [],
   "source": [
    "def get_feature(batch):\n",
    "    encoding = tokenizer(\n",
    "        batch['article'],\n",
    "        text_target=batch['highlights'],\n",
    "        max_length=1024,\n",
    "        truncation=True,\n",
    "        padding=\"max_length\"\n",
    "    )\n",
    "    encoding['labels'] = encoding['input_ids'].copy()\n",
    "    return encoding\n"
   ]
  },
  {
   "cell_type": "code",
   "execution_count": null,
   "id": "5996ca2c",
   "metadata": {},
   "outputs": [],
   "source": []
  },
  {
   "cell_type": "code",
   "execution_count": null,
   "id": "e679620f",
   "metadata": {},
   "outputs": [],
   "source": []
  },
  {
   "cell_type": "code",
   "execution_count": null,
   "id": "86f1ae1c",
   "metadata": {},
   "outputs": [],
   "source": []
  },
  {
   "cell_type": "code",
   "execution_count": null,
   "id": "cbb1209d",
   "metadata": {},
   "outputs": [],
   "source": []
  },
  {
   "cell_type": "code",
   "execution_count": null,
   "id": "2ecae61b",
   "metadata": {},
   "outputs": [],
   "source": []
  },
  {
   "cell_type": "code",
   "execution_count": null,
   "id": "7afc2092",
   "metadata": {},
   "outputs": [],
   "source": []
  },
  {
   "cell_type": "code",
   "execution_count": null,
   "id": "589e2bb1",
   "metadata": {},
   "outputs": [],
   "source": []
  },
  {
   "cell_type": "code",
   "execution_count": null,
   "id": "5edac724",
   "metadata": {},
   "outputs": [],
   "source": []
  },
  {
   "cell_type": "code",
   "execution_count": null,
   "id": "fbdf3382",
   "metadata": {},
   "outputs": [],
   "source": []
  },
  {
   "cell_type": "code",
   "execution_count": null,
   "id": "ffe40c42",
   "metadata": {},
   "outputs": [],
   "source": []
  },
  {
   "cell_type": "code",
   "execution_count": null,
   "id": "df6161b8",
   "metadata": {},
   "outputs": [],
   "source": []
  }
 ],
 "metadata": {
  "language_info": {
   "name": "python"
  }
 },
 "nbformat": 4,
 "nbformat_minor": 5
}
