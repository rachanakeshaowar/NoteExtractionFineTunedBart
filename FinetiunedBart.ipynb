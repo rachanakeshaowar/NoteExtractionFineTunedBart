{
 "cells": [
  {
   "cell_type": "code",
   "execution_count": null,
   "id": "89bcf51f",
   "metadata": {},
   "outputs": [],
   "source": [
    "!pip install -U transformers\n",
    "!pip install -U accelerate\n",
    "!pip install -U datasets\n",
    "!pip install -U bertviz\n",
    "!pip install -U umap-learn\n",
    "!pip install -U sentencepiece\n",
    "!pip install -U urllib3\n",
    "!pip install py7zr\n",
    "!pip install matplotlib"
   ]
  }
 ],
 "metadata": {
  "language_info": {
   "name": "python"
  }
 },
 "nbformat": 4,
 "nbformat_minor": 5
}
