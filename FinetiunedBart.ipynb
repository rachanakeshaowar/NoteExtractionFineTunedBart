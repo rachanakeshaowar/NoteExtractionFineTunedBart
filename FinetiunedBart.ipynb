{
 "cells": [
  {
   "cell_type": "code",
   "execution_count": null,
   "id": "89bcf51f",
   "metadata": {},
   "outputs": [],
   "source": [
    "!pip install -U transformers\n",
    "!pip install -U accelerate\n",
    "!pip install -U datasets\n",
    "!pip install -U bertviz\n",
    "!pip install -U umap-learn\n",
    "!pip install -U sentencepiece\n",
    "!pip install -U urllib3\n",
    "!pip install py7zr\n",
    "!pip install matplotlib"
   ]
  },
  {
   "cell_type": "code",
   "execution_count": null,
   "id": "d6542d6e",
   "metadata": {},
   "outputs": [],
   "source": [
    "from datasets import load_dataset\n",
    "dataset = load_dataset(\"cnn_dailymail\", \"3.0.0\")"
   ]
  },
  {
   "cell_type": "code",
   "execution_count": null,
   "id": "17e0d448",
   "metadata": {},
   "outputs": [],
   "source": [
    "dataset['train']"
   ]
  },
  {
   "cell_type": "code",
   "execution_count": null,
   "id": "be6b3b9b",
   "metadata": {},
   "outputs": [],
   "source": [
    "dataset['train'][1]['article'][:300]\n"
   ]
  },
  {
   "cell_type": "code",
   "execution_count": null,
   "id": "9eafa87e",
   "metadata": {},
   "outputs": [],
   "source": [
    "dataset['train'][1]['highlights']"
   ]
  },
  {
   "cell_type": "code",
   "execution_count": null,
   "id": "adf3d59d",
   "metadata": {},
   "outputs": [],
   "source": [
    "from transformers import pipeline\n",
    "pipe = pipeline(\"text-generation\", model=\"gpt2-medium\")"
   ]
  },
  {
   "cell_type": "code",
   "execution_count": null,
   "id": "898440a4",
   "metadata": {},
   "outputs": [],
   "source": [
    "print(dataset['train'][1]['article'][:1000])\n",
    "\n",
    "\n",
    "input_text = dataset['train'][1]['article'][:2000]\n",
    "query = input_text + \"\\nTL;DR:\\n\"\n",
    "\n",
    "\n",
    "pipe_out = pipe(query, max_length=512, clean_up_tokenization_spaces=True)\n",
    "\n",
    "\n",
    "print(pipe_out[0]['generated_text'])"
   ]
  },
  {
   "cell_type": "code",
   "execution_count": null,
   "metadata": {},
   "outputs": [],
   "source": [
    "len(input_text)"
   ]
  },
  {
   "cell_type": "code",
   "execution_count": null,
   "id": "e7c1aeaa",
   "metadata": {},
   "outputs": [],
   "source": [
    "pipe_out[0]['generated_text']"
   ]
  },
  {
   "cell_type": "code",
   "execution_count": null,
   "id": "11cbf5e4",
   "metadata": {},
   "outputs": [],
   "source": [
    "pipe_out[0]['generated_text'][len(query):]"
   ]
  },
  {
   "cell_type": "code",
   "execution_count": null,
   "id": "88604bfc",
   "metadata": {},
   "outputs": [],
   "source": [
    "summaries = {}\n",
    "summaries['gpt2-medium-380M'] = pipe_out[0]['generated_text'][len(query):]"
   ]
  },
  {
   "cell_type": "code",
   "execution_count": null,
   "id": "816a6bad",
   "metadata": {},
   "outputs": [],
   "source": [
    "pipe = pipeline('summarization',model='t5-base')"
   ]
  },
  {
   "cell_type": "code",
   "execution_count": null,
   "id": "e3650bde",
   "metadata": {},
   "outputs": [],
   "source": [
    "pipe_out = pipe(input_text)"
   ]
  },
  {
   "cell_type": "code",
   "execution_count": null,
   "id": "114b245f",
   "metadata": {},
   "outputs": [],
   "source": [
    "summaries['t5-base-223M'] = pipe_out[0]['summary_text']"
   ]
  },
  {
   "cell_type": "code",
   "execution_count": null,
   "id": "25ff749f",
   "metadata": {},
   "outputs": [],
   "source": []
  },
  {
   "cell_type": "code",
   "execution_count": null,
   "id": "826b7217",
   "metadata": {},
   "outputs": [],
   "source": []
  },
  {
   "cell_type": "code",
   "execution_count": null,
   "id": "b2c130a6",
   "metadata": {},
   "outputs": [],
   "source": []
  }
 ],
 "metadata": {
  "language_info": {
   "name": "python"
  }
 },
 "nbformat": 4,
 "nbformat_minor": 5
}
